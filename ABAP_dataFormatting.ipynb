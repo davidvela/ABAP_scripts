{
 "cells": [
  {
   "cell_type": "code",
   "execution_count": 1,
   "metadata": {},
   "outputs": [],
   "source": [
    "import pandas as pd \n"
   ]
  },
  {
   "cell_type": "code",
   "execution_count": 2,
   "metadata": {},
   "outputs": [],
   "source": [
    "\n",
    "f_sch    = '../../__data/ABAP_H_SampleData.csv'\n",
    "l_keycol = 'APLNO' "
   ]
  },
  {
   "cell_type": "code",
   "execution_count": 3,
   "metadata": {},
   "outputs": [],
   "source": [
    "df = pd.read_csv(f_sch, sep=';')\n",
    "# df.head(10)"
   ]
  },
  {
   "cell_type": "markdown",
   "metadata": {},
   "source": [
    "# Data Formatting"
   ]
  },
  {
   "cell_type": "markdown",
   "metadata": {
    "heading_collapsed": true
   },
   "source": [
    "## Concat column with ; "
   ]
  },
  {
   "cell_type": "code",
   "execution_count": 21,
   "metadata": {
    "hidden": true
   },
   "outputs": [],
   "source": [
    "l_str = ''\n",
    "for index, row in df.iterrows():\n",
    "    l_str = l_str + \";\" + str(row[l_keycol])"
   ]
  },
  {
   "cell_type": "code",
   "execution_count": 22,
   "metadata": {
    "hidden": true
   },
   "outputs": [
    {
     "data": {
      "text/plain": [
       "';2;4;5;6;8;9;10'"
      ]
     },
     "execution_count": 22,
     "metadata": {},
     "output_type": "execute_result"
    }
   ],
   "source": [
    "l_str"
   ]
  },
  {
   "cell_type": "code",
   "execution_count": null,
   "metadata": {
    "hidden": true
   },
   "outputs": [],
   "source": []
  },
  {
   "cell_type": "markdown",
   "metadata": {},
   "source": [
    "## Create ABAP Strucutre Value"
   ]
  },
  {
   "cell_type": "code",
   "execution_count": 5,
   "metadata": {},
   "outputs": [
    {
     "name": "stdout",
     "output_type": "stream",
     "text": [
      "l_tmp = VALUE #( APLNO = '2' PERNR = '0' UNAME = 'SPINDLGA' AEDTM = '06.02.2017 14:48' ACADEMICGRADE = 'nan' ACAD_GRADE_TXT = 'nan' ANRED = '1.0' ANRLT = 'Herr' NACHN = 'Mattaparti' VORNA = 'Luca' NCHMC = 'MATTAPARTI' \n",
      " VNAMC = 'LUCA' GBDAT = '14.09.1976' GESCH = '1.0' PLANS = '80254905' PLSTX = 'R431' PLSTX_LONG = 'Head Large Project Mgmt.' PLSTX_LONG_EXT = 'Head Large Project Management' ORGEH = '80526049' ORGTX = 'NM-GP' \n",
      " ORGTX_LONG = 'Large Project Mgmt.' ORGTX_LONG_EXT = 'nan' KOSTL = '540070400' KTEXT = 'Large Project Mgmt.' STELL = '80064939' STELTX = 'R431' STELL_OSC = '40 - FO Business' STELTX_OSC = 'Salesman NI' \n",
      " HIRED = '01.04.2017' BUKRS = '5400' BUTXT = 'Schindler Aufzüge AG (CH)' BUKRS_ORT01 = 'SCH' WERKS = '5460' WERKS_TXT = 'Ebikon Zentrale' WERKS_CITY = 'Ebikon' BTRTL = '10.0' BTEXT = 'Büro' PERSG = 'nan' \n",
      " PERSG_TXT = 'nan' PERSK = 'nan' PERSK_TXT = 'nan' LAND1 = 'nan' ORT01 = 'Luzern' PSTLZ = '6006.0' STATE = 'nan' STRAS = 'Tivolistrasse 16' TELNR = 'nan' E_MAIL = 'nan' NATIONALITY = 'CH' HOMETOWN = 'Sissach BL' \n",
      " HOMECOUNTRY = 'CH' Z_CHECK = '0' HOMECOUNTRY_TXT = 'Schweiz' REC_PERNR = '111332' REC_VORNA = 'Bernhard' REC_NACHN = 'Gisler' REC_PLANS = '25785' REC_PLANS_TXT = 'Human Resources Director' REC_PLANS_EXT = 'Mitglied der Geschäftsleitung' \n",
      " REC_ORG_TEXT = 'FO HR  Personal & Ausbildung' REC_ORG_EXT = 'Personal und Ausbildung' REC_PHONE = '+41 41 445 48 82' REC_MOBILE = '+41 79 204 68 88' REC_EMAIL = 'bernhard.gisler@ch.schindler.com' MGR_PERNR = '169819' \n",
      " MGR_VORNA = 'Rodin' MGR_NACHN = 'Lederle' MGR_PLANS = '80526070' MGR_PLANS_TXT = 'Director Business Mgmt. NI&MOD' MGR_PLANS_EXT = 'Mitglied der Geschäftsleitung' MGR_ORG_TEXT = 'Business Mgmt. NI&MOD' \n",
      " MGR_ORG_EXT = 'Business Mgmt. NI&MOD' ENTRY_DATE = '01.04.2017' TECH_ENTRY = '01.03.2008' TEC_COMPANY1 = 'Schindler Aufzüge AG' TEC_START_DATE1 = '01.03.2008' TEC_END_DATE1 = '31.03.2017' TEC_COMPANY2 = 'nan' \n",
      " TEC_START_DATE2 = 'nan' TEC_END_DATE2 = 'nan' TEC_COMPANY3 = 'nan' TEC_START_DATE3 = 'nan' TEC_END_DATE3 = 'nan' TEC_COMPANY4 = 'nan' TEC_START_DATE4 = 'nan' TEC_END_DATE4 = 'nan' FIRST_DAY = '03.04.2017' \n",
      " ARRIVAL_TIME = '00:00:00' LEAVE_DATE = '31.12.9999' MGT_GRADE_CODE = '2.0' MGT_GRADE_TEXT = 'Senior Management' CONT_CODE = '3.0' CONT_TEXT = 'Direktion' CONTRACT_LANGU = 'D' CONTRACT_LANG_T = 'Deutsch' \n",
      " CONT_SUB_CODE = '190.0' CONT_SUB_TEXT = 'Senior Management' CONT_DURATION = '9999.00' PROBAT_PERIOD = '0.0' NOTICE_WITHIN = '0' NOTICE_AFTER = '6' EMPLY_PERCENT = '100' LGART = '1.0' WAGE_TYPE = 'Monthly' \n",
      " WAGE_AMOUNT = '10000.00' ACC_GEN_COVERAGE = '0.0' Y_E_SALARY = '10000.00' TGT_BONUS = '32000.00' SIGNON_BONUS = '0.0' SOB_PERIOD = '0' REP_ALLOW = '8000.00' CAR_ALLOW = '8000.00' EXP_AFR = '4' AUTO_SPESEN = '16000.00' \n",
      " PK_YCOMP_B = '154000.00' PK_YCOMP_A = '140000.00' STOCK_OPT_COD = '1.0' STOCK_OPT_TXT = 'No SOP' SFC = '5000.00' NOA_INSURANCE = 'X' RETIRED_EMP = 'nan' PF_MEMBER = 'nan' NOC_CODE = 'nan' NOC_TEXT = 'nan' \n",
      " DEF_BY_HR = 'nan' INSIDER_KLA = 'nan' DIP_THESIS = 'nan' CRIMINAL_REC = 'nan' SHIFT_WORK = 'nan' STBY_SERVICE = 'nan' STBY_SERVICE_B = 'nan' ON_CALL_WORK = 'nan' WORK_PERMIT = 'nan' EMP_ABD = 'nan' TRAINING_COST = '0' \n",
      " OBLIG_MONTHS = '0' MOVING_COST_FLAG = 'nan' MOVING_COST = '0.0' SUPP_IND_PRO = 'nan' WEL_COURSE_DATE = 'nan' LIFT_CMP_REG = 'nan' LIFT_CMP_DATE = 'nan' LIFT_CMP_DESG = 'nan' FREE_MOV_FORM = 'nan' CONT_TO_RET_DATE = 'nan' \n",
      " CONT_SENT = 'nan' CONT_RET_DATE = 'nan' ENTRY_CODE = '3.0' ENTRY_TEXT = 'Re-Entry (New Function)' WEEKLY_WRK_HRS = '40' EMP_DOCU = 'nan' COMP_NAME1 = 'Schindler Aufzüge EBI Zentrale' COMP_NAME2 = 'Field Operations' \n",
      " COMP_STREET = 'Zugerstrasse' COMP_HOUSE_NUM1 = '13.0' COMP_PFACH = 'nan' COMP_PSTLZ = '6030.0' COMP_CITY1 = 'Ebikon' COMP_LAND1 = 'CH' COMP_LANDX = 'Schweiz' COMP_REGIO = 'LU' BUILDING = 'nan' FLOOR = 'nan' \n",
      " TEL_NUMBER = 'nan' FAX_NUMBER = 'nan' COUNTRY_NAME = 'nan' COMMU_LANG = 'D' TEMPLATE_ID = '1101.0' MASSN = 'Y6' CONTRACT_SUBMIT = 'X' HIRING_SUBMIT = 'nan' CONTRACT_FLAG = 'X' COVER_FLAG = 'X' LIFTCAMP_FLAG = 'nan' \n",
      " ENCL_DOC_FLAG = 'X' ANZKD = '0' KG_DATE_05 = 'nan' KG_DATE_06 = 'nan' KG_DATE_07 = 'nan' KG_DATE_08 = 'nan' KG_FLAG_06 = 'nan' KG_FLAG_07 = 'nan' KG_FLAG_08 = 'nan' KG_TIME_01 = '00:00:00' KG_TIME_02 = '00:00:00' \n",
      " KG_NUM_02 = 'nan' KG_NUM_03 = 'nan' KG_NUM_04 = 'nan' KG_NUM_05 = 'nan' KG_NUM_06 = 'nan' KG_TEXT_02 = 'nan' KG_TEXT_03 = 'nan' KG_TEXT_04 = 'nan' KG_TEXT_05 = 'nan' KG_TEXT_06 = 'nan' KG_TEXT_07 = 'nan' \n",
      " KG_TEXT_08 = 'nan' PRIV_ADRESS_SECO = 'nan' PRIV_ADDRESS_CO = 'nan' ZZDEC_CR = '0.0' ZZDEC_CR2 = '0.0' ZZDEC_CR3 = '0.0' ZZDATE = 'nan' ZZFLAG1 = 'nan' ZZFLAG2 = 'nan' ZZFLAG3 = 'nan'  ).\n",
      "APPEND l_tmp to e_tab.\n",
      "\n",
      "l_tmp = VALUE #( APLNO = '4' PERNR = '0' UNAME = 'ENGELF1' AEDTM = '16.01.2020 09:50' ACADEMICGRADE = 'nan' ACAD_GRADE_TXT = 'nan' ANRED = '2.0' ANRLT = 'Frau' NACHN = 'Meyer' VORNA = 'Michaël' NCHMC = 'MEYER' \n",
      " VNAMC = 'MICHAËL' GBDAT = '18.05.2000' GESCH = '2.0' PLANS = '25274' PLSTX = '400091' PLSTX_LONG = 'Customer Service Expert' PLSTX_LONG_EXT = 'Customer Service Employee' ORGEH = '80526140' ORGTX = 'EI-CCC' \n",
      " ORGTX_LONG = 'Customer Contact Center' ORGTX_LONG_EXT = 'nan' KOSTL = '540050250' KTEXT = 'Call Center Mgmt.' STELL = '80064925' STELTX = 'R5121' STELL_OSC = '20 - Global Business' STELTX_OSC = 'Call Center Operator' \n",
      " HIRED = '27.01.2020' BUKRS = '5400' BUTXT = 'Schindler Aufzüge AG (CH)' BUKRS_ORT01 = 'SCH' WERKS = '5460' WERKS_TXT = 'Ebikon Zentrale' WERKS_CITY = 'Ebikon' BTRTL = '10.0' BTEXT = 'Büro' PERSG = 'nan' \n",
      " PERSG_TXT = 'nan' PERSK = 'nan' PERSK_TXT = 'nan' LAND1 = 'CH' ORT01 = 'Emmenbrücke' PSTLZ = '6020.0' STATE = 'LU' STRAS = 'Schönbühlstrasse 11' TELNR = 'nan' E_MAIL = 'nan' NATIONALITY = 'CH' HOMETOWN = 'Emmen' \n",
      " HOMECOUNTRY = 'CH' Z_CHECK = '0' HOMECOUNTRY_TXT = 'Schweiz' REC_PERNR = '20002014' REC_VORNA = 'Marisa' REC_NACHN = 'Reati' REC_PLANS = '80833993' REC_PLANS_TXT = 'HR Consultant' REC_PLANS_EXT = 'nan' \n",
      " REC_ORG_TEXT = 'HR Headquarters' REC_ORG_EXT = 'HR Zentrale' REC_PHONE = '+41414453576' REC_MOBILE = 'nan' REC_EMAIL = 'marisa.reati@schindler.com' MGR_PERNR = '20006242' MGR_VORNA = 'Nicolas' MGR_NACHN = 'Milli' \n",
      " MGR_PLANS = '80673778' MGR_PLANS_TXT = 'Head CCC Team Switchboard' MGR_PLANS_EXT = 'Head' MGR_ORG_TEXT = 'CCC Team Switchboard' MGR_ORG_EXT = 'nan' ENTRY_DATE = '27.01.2020' TECH_ENTRY = '27.01.2020' \n",
      " TEC_COMPANY1 = 'nan' TEC_START_DATE1 = 'nan' TEC_END_DATE1 = 'nan' TEC_COMPANY2 = 'nan' TEC_START_DATE2 = 'nan' TEC_END_DATE2 = 'nan' TEC_COMPANY3 = 'nan' TEC_START_DATE3 = 'nan' TEC_END_DATE3 = 'nan' \n",
      " TEC_COMPANY4 = 'nan' TEC_START_DATE4 = 'nan' TEC_END_DATE4 = 'nan' FIRST_DAY = '27.01.2020' ARRIVAL_TIME = '08:30:00' LEAVE_DATE = '31.12.9999' MGT_GRADE_CODE = 'nan' MGT_GRADE_TEXT = 'nan' CONT_CODE = '1.0' \n",
      " CONT_TEXT = 'GAV' CONTRACT_LANGU = 'D' CONTRACT_LANG_T = 'Deutsch' CONT_SUB_CODE = '120.0' CONT_SUB_TEXT = 'Temporary Employees (GAV)' CONT_DURATION = '9999.00' PROBAT_PERIOD = '3.0' NOTICE_WITHIN = '7' \n",
      " NOTICE_AFTER = '1' EMPLY_PERCENT = '20' LGART = '2.0' WAGE_TYPE = 'Hourly' WAGE_AMOUNT = '33.00' ACC_GEN_COVERAGE = '0.0' Y_E_SALARY = '0.00' TGT_BONUS = '0.00' SIGNON_BONUS = '0.0' SOB_PERIOD = '0' \n",
      " REP_ALLOW = '0.00' CAR_ALLOW = '0.00' EXP_AFR = '4' AUTO_SPESEN = '0.00' PK_YCOMP_B = '60588.00' PK_YCOMP_A = '57788.00' STOCK_OPT_COD = '1.0' STOCK_OPT_TXT = 'No SOP' SFC = '0.00' NOA_INSURANCE = 'X' \n",
      " RETIRED_EMP = 'nan' PF_MEMBER = 'nan' NOC_CODE = '20.0' NOC_TEXT = 'Switzerland' DEF_BY_HR = 'nan' INSIDER_KLA = 'nan' DIP_THESIS = 'nan' CRIMINAL_REC = 'X' SHIFT_WORK = 'nan' STBY_SERVICE = 'nan' STBY_SERVICE_B = 'nan' \n",
      " ON_CALL_WORK = 'X' WORK_PERMIT = 'nan' EMP_ABD = 'nan' TRAINING_COST = '0' OBLIG_MONTHS = '0' MOVING_COST_FLAG = 'nan' MOVING_COST = '0.0' SUPP_IND_PRO = 'nan' WEL_COURSE_DATE = '04.02.2020' LIFT_CMP_REG = 'nan' \n",
      " LIFT_CMP_DATE = 'nan' LIFT_CMP_DESG = 'nan' FREE_MOV_FORM = 'nan' CONT_TO_RET_DATE = '24.01.2020' CONT_SENT = 'nan' CONT_RET_DATE = 'nan' ENTRY_CODE = '1.0' ENTRY_TEXT = 'New Entry' WEEKLY_WRK_HRS = '8' \n",
      " EMP_DOCU = 'X' COMP_NAME1 = 'Schindler Aufzüge EBI Zentrale' COMP_NAME2 = 'Field Operations' COMP_STREET = 'Zugerstrasse' COMP_HOUSE_NUM1 = '13.0' COMP_PFACH = 'nan' COMP_PSTLZ = '6030.0' COMP_CITY1 = 'Ebikon' \n",
      " COMP_LAND1 = 'CH' COMP_LANDX = 'Schweiz' COMP_REGIO = 'LU' BUILDING = 'nan' FLOOR = 'nan' TEL_NUMBER = 'nan' FAX_NUMBER = 'nan' COUNTRY_NAME = 'Schweiz' COMMU_LANG = 'D' TEMPLATE_ID = '1101.0' MASSN = 'Y5' \n",
      " CONTRACT_SUBMIT = 'X' HIRING_SUBMIT = 'X' CONTRACT_FLAG = 'X' COVER_FLAG = 'X' LIFTCAMP_FLAG = 'nan' ENCL_DOC_FLAG = 'X' ANZKD = '0' KG_DATE_05 = 'nan' KG_DATE_06 = 'nan' KG_DATE_07 = 'nan' KG_DATE_08 = 'nan' \n",
      " KG_FLAG_06 = 'nan' KG_FLAG_07 = 'nan' KG_FLAG_08 = 'nan' KG_TIME_01 = '00:00:00' KG_TIME_02 = '00:00:00' KG_NUM_02 = 'nan' KG_NUM_03 = 'nan' KG_NUM_04 = 'nan' KG_NUM_05 = 'nan' KG_NUM_06 = 'nan' KG_TEXT_02 = 'nan' \n",
      " KG_TEXT_03 = 'nan' KG_TEXT_04 = 'nan' KG_TEXT_05 = 'nan' KG_TEXT_06 = 'nan' KG_TEXT_07 = 'nan' KG_TEXT_08 = 'nan' PRIV_ADRESS_SECO = 'nan' PRIV_ADDRESS_CO = 'nan' ZZDEC_CR = '0.0' ZZDEC_CR2 = '0.0' ZZDEC_CR3 = '0.0' \n",
      " ZZDATE = 'nan' ZZFLAG1 = 'nan' ZZFLAG2 = 'nan' ZZFLAG3 = 'nan'  ).\n",
      "APPEND l_tmp to e_tab.\n",
      "\n",
      "l_tmp = VALUE #( APLNO = '5' PERNR = '0' UNAME = 'HAECKINA' AEDTM = '26.06.2019 08:45' ACADEMICGRADE = 'nan' ACAD_GRADE_TXT = 'nan' ANRED = '1.0' ANRLT = 'Herr' NACHN = 'Prashant' VORNA = 'Stefano' NCHMC = 'PRASHANT' \n",
      " VNAMC = 'STEFANO' GBDAT = '22.10.1961' GESCH = '1.0' PLANS = '80836445' PLSTX = '111013' PLSTX_LONG = 'Technician' PLSTX_LONG_EXT = 'nan' ORGEH = '80266398' ORGTX = 'GM-HT' ORGTX_LONG = 'Maintenance Building Technics' \n",
      " ORGTX_LONG_EXT = 'nan' KOSTL = '540018700' KTEXT = 'Haustechnik' STELL = '80064961' STELTX = 'R62' STELL_OSC = '60 - Finance' STELTX_OSC = 'General Administrative Services' HIRED = '01.10.2019' BUKRS = '5400' \n",
      " BUTXT = 'Schindler Aufzüge AG (CH)' BUKRS_ORT01 = 'SCH' WERKS = '5460' WERKS_TXT = 'Ebikon Zentrale' WERKS_CITY = 'Ebikon' BTRTL = '20.0' BTEXT = 'Werkstatt' PERSG = 'nan' PERSG_TXT = 'nan' PERSK = 'nan' \n",
      " PERSK_TXT = 'nan' LAND1 = 'CH' ORT01 = 'Emmenbrücke' PSTLZ = '6020.0' STATE = 'nan' STRAS = 'Obere Erlen 31' TELNR = 'nan' E_MAIL = 'nan' NATIONALITY = 'CH' HOMETOWN = 'Zunzgen BL' HOMECOUNTRY = 'CH' \n",
      " Z_CHECK = '0' HOMECOUNTRY_TXT = 'Schweiz' REC_PERNR = '20002014' REC_VORNA = 'Marisa' REC_NACHN = 'Reati' REC_PLANS = '80833993' REC_PLANS_TXT = 'HR Consultant' REC_PLANS_EXT = 'nan' REC_ORG_TEXT = 'HR Headquarters' \n",
      " REC_ORG_EXT = 'HR Zentrale' REC_PHONE = '+41414453576' REC_MOBILE = 'nan' REC_EMAIL = 'marisa.reati@schindler.com' MGR_PERNR = '199487' MGR_VORNA = 'Martin' MGR_NACHN = 'Graf' MGR_PLANS = '25706' MGR_PLANS_TXT = 'Head Maintenance Building Technics' \n",
      " MGR_PLANS_EXT = 'Head' MGR_ORG_TEXT = 'Maintenance Building Technics' MGR_ORG_EXT = 'nan' ENTRY_DATE = '01.10.2019' TECH_ENTRY = '01.10.2019' TEC_COMPANY1 = 'nan' TEC_START_DATE1 = 'nan' TEC_END_DATE1 = 'nan' \n",
      " TEC_COMPANY2 = 'nan' TEC_START_DATE2 = 'nan' TEC_END_DATE2 = 'nan' TEC_COMPANY3 = 'nan' TEC_START_DATE3 = 'nan' TEC_END_DATE3 = 'nan' TEC_COMPANY4 = 'nan' TEC_START_DATE4 = 'nan' TEC_END_DATE4 = 'nan' \n",
      " FIRST_DAY = '01.10.2019' ARRIVAL_TIME = '08:00:00' LEAVE_DATE = '31.12.9999' MGT_GRADE_CODE = 'nan' MGT_GRADE_TEXT = 'nan' CONT_CODE = '1.0' CONT_TEXT = 'GAV' CONTRACT_LANGU = 'D' CONTRACT_LANG_T = 'Deutsch' \n",
      " CONT_SUB_CODE = '110.0' CONT_SUB_TEXT = 'General (without title)' CONT_DURATION = '9999.00' PROBAT_PERIOD = '3.0' NOTICE_WITHIN = '7' NOTICE_AFTER = '3' EMPLY_PERCENT = '100' LGART = '1.0' WAGE_TYPE = 'Monthly' \n",
      " WAGE_AMOUNT = '6900.00' ACC_GEN_COVERAGE = '0.0' Y_E_SALARY = '6900.00' TGT_BONUS = '0.00' SIGNON_BONUS = '0.0' SOB_PERIOD = '0' REP_ALLOW = '0.00' CAR_ALLOW = '0.00' EXP_AFR = '4' AUTO_SPESEN = '0.00' \n",
      " PK_YCOMP_B = '89700.00' PK_YCOMP_A = '75700.00' STOCK_OPT_COD = 'nan' STOCK_OPT_TXT = 'nan' SFC = '0.00' NOA_INSURANCE = 'X' RETIRED_EMP = 'nan' PF_MEMBER = 'nan' NOC_CODE = '20.0' NOC_TEXT = 'Switzerland' \n",
      " DEF_BY_HR = 'nan' INSIDER_KLA = 'nan' DIP_THESIS = 'nan' CRIMINAL_REC = 'X' SHIFT_WORK = 'nan' STBY_SERVICE = 'nan' STBY_SERVICE_B = 'nan' ON_CALL_WORK = 'nan' WORK_PERMIT = 'nan' EMP_ABD = 'nan' TRAINING_COST = '0' \n",
      " OBLIG_MONTHS = '0' MOVING_COST_FLAG = 'nan' MOVING_COST = '0.0' SUPP_IND_PRO = 'nan' WEL_COURSE_DATE = '02.10.2019' LIFT_CMP_REG = 'nan' LIFT_CMP_DATE = 'nan' LIFT_CMP_DESG = 'nan' FREE_MOV_FORM = 'nan' \n",
      " CONT_TO_RET_DATE = '05.07.2019' CONT_SENT = 'nan' CONT_RET_DATE = 'nan' ENTRY_CODE = '1.0' ENTRY_TEXT = 'New Entry' WEEKLY_WRK_HRS = '40' EMP_DOCU = 'X' COMP_NAME1 = 'Schindler Aufzüge EBI Zentrale' \n",
      " COMP_NAME2 = 'Field Operations' COMP_STREET = 'Zugerstrasse' COMP_HOUSE_NUM1 = '13.0' COMP_PFACH = 'nan' COMP_PSTLZ = '6030.0' COMP_CITY1 = 'Ebikon' COMP_LAND1 = 'CH' COMP_LANDX = 'Schweiz' COMP_REGIO = 'LU' \n",
      " BUILDING = 'nan' FLOOR = 'nan' TEL_NUMBER = 'nan' FAX_NUMBER = 'nan' COUNTRY_NAME = 'Schweiz' COMMU_LANG = 'D' TEMPLATE_ID = '1101.0' MASSN = 'Y1' CONTRACT_SUBMIT = 'X' HIRING_SUBMIT = 'X' CONTRACT_FLAG = 'X' \n",
      " COVER_FLAG = 'X' LIFTCAMP_FLAG = 'nan' ENCL_DOC_FLAG = 'X' ANZKD = '0' KG_DATE_05 = 'nan' KG_DATE_06 = 'nan' KG_DATE_07 = 'nan' KG_DATE_08 = 'nan' KG_FLAG_06 = 'nan' KG_FLAG_07 = 'nan' KG_FLAG_08 = 'nan' \n",
      " KG_TIME_01 = '00:00:00' KG_TIME_02 = '00:00:00' KG_NUM_02 = 'nan' KG_NUM_03 = 'nan' KG_NUM_04 = 'nan' KG_NUM_05 = 'nan' KG_NUM_06 = 'nan' KG_TEXT_02 = 'nan' KG_TEXT_03 = 'nan' KG_TEXT_04 = 'nan' KG_TEXT_05 = 'nan' \n",
      " KG_TEXT_06 = 'nan' KG_TEXT_07 = 'nan' KG_TEXT_08 = 'nan' PRIV_ADRESS_SECO = 'nan' PRIV_ADDRESS_CO = 'nan' ZZDEC_CR = '0.0' ZZDEC_CR2 = '0.0' ZZDEC_CR3 = '0.0' ZZDATE = 'nan' ZZFLAG1 = 'nan' ZZFLAG2 = 'nan' \n",
      " ZZFLAG3 = 'nan'  ).\n",
      "APPEND l_tmp to e_tab.\n",
      "\n",
      "l_tmp = VALUE #( APLNO = '6' PERNR = '0' UNAME = 'HUWILEPE' AEDTM = '07.02.2019 12:05' ACADEMICGRADE = 'nan' ACAD_GRADE_TXT = 'nan' ANRED = '1.0' ANRLT = 'Herr' NACHN = 'Frey' VORNA = 'Xingxing' NCHMC = 'FREY' \n",
      " VNAMC = 'XINGXING' GBDAT = '27.06.1990' GESCH = '1.0' PLANS = '80695236' PLSTX = 'R401' PLSTX_LONG = 'Executive Assistant' PLSTX_LONG_EXT = 'nan' ORGEH = '505832' ORGTX = 'SCH' ORGTX_LONG = 'Schindler Switzerland' \n",
      " ORGTX_LONG_EXT = 'nan' KOSTL = '540050300' KTEXT = 'VGL Schindler Aufz.' STELL = '80064934' STELTX = 'R4011' STELL_OSC = '40 - FO Business' STELTX_OSC = 'Project Manager' HIRED = '01.04.2019' BUKRS = '5400' \n",
      " BUTXT = 'Schindler Aufzüge AG (CH)' BUKRS_ORT01 = 'SCH' WERKS = '5460' WERKS_TXT = 'Ebikon Zentrale' WERKS_CITY = 'Ebikon' BTRTL = '20.0' BTEXT = 'Werkstatt' PERSG = 'nan' PERSG_TXT = 'nan' PERSK = 'nan' \n",
      " PERSK_TXT = 'nan' LAND1 = 'CH' ORT01 = 'Uetikon am See' PSTLZ = '8707.0' STATE = 'ZH' STRAS = 'Talstrasse 7' TELNR = 'nan' E_MAIL = 'nan' NATIONALITY = 'CH' HOMETOWN = 'Niederwil AG' HOMECOUNTRY = 'CH' \n",
      " Z_CHECK = '0' HOMECOUNTRY_TXT = 'Schweiz' REC_PERNR = '159557' REC_VORNA = 'Peter' REC_NACHN = 'Huwiler' REC_PLANS = '80492508' REC_PLANS_TXT = 'HR Business Partner' REC_PLANS_EXT = 'nan' REC_ORG_TEXT = 'HR Headquarters' \n",
      " REC_ORG_EXT = 'HR Zentrale' REC_PHONE = '+41 41 445 35 76' REC_MOBILE = 'nan' REC_EMAIL = 'peter.huwiler@schindler.com' MGR_PERNR = '116156' MGR_VORNA = 'Patrick' MGR_NACHN = 'Hess' MGR_PLANS = '26338' \n",
      " MGR_PLANS_TXT = 'KG Head' MGR_PLANS_EXT = 'Vorsitzender der Geschäftsleitung' MGR_ORG_TEXT = 'Schindler Switzerland' MGR_ORG_EXT = 'Schindler Aufzüge AG' ENTRY_DATE = '01.04.2019' TECH_ENTRY = '01.04.2019' \n",
      " TEC_COMPANY1 = 'nan' TEC_START_DATE1 = 'nan' TEC_END_DATE1 = 'nan' TEC_COMPANY2 = 'nan' TEC_START_DATE2 = 'nan' TEC_END_DATE2 = 'nan' TEC_COMPANY3 = 'nan' TEC_START_DATE3 = 'nan' TEC_END_DATE3 = 'nan' \n",
      " TEC_COMPANY4 = 'nan' TEC_START_DATE4 = 'nan' TEC_END_DATE4 = 'nan' FIRST_DAY = '01.04.2019' ARRIVAL_TIME = '08:00:00' LEAVE_DATE = '31.12.9999' MGT_GRADE_CODE = 'nan' MGT_GRADE_TEXT = 'nan' CONT_CODE = '2.0' \n",
      " CONT_TEXT = 'Kader' CONTRACT_LANGU = 'D' CONTRACT_LANG_T = 'Deutsch' CONT_SUB_CODE = '160.0' CONT_SUB_TEXT = 'Management' CONT_DURATION = '9999.00' PROBAT_PERIOD = '3.0' NOTICE_WITHIN = '7' NOTICE_AFTER = '5' \n",
      " EMPLY_PERCENT = '100' LGART = '1.0' WAGE_TYPE = 'Monthly' WAGE_AMOUNT = '8840.00' ACC_GEN_COVERAGE = '0.0' Y_E_SALARY = '8840.00' TGT_BONUS = '10000.00' SIGNON_BONUS = '0.0' SOB_PERIOD = '0' REP_ALLOW = '0.00' \n",
      " CAR_ALLOW = '0.00' EXP_AFR = '4' AUTO_SPESEN = '0.00' PK_YCOMP_B = '117480.00' PK_YCOMP_A = '103480.00' STOCK_OPT_COD = '1.0' STOCK_OPT_TXT = 'No SOP' SFC = '0.00' NOA_INSURANCE = 'X' RETIRED_EMP = 'nan' \n",
      " PF_MEMBER = 'nan' NOC_CODE = '10.0' NOC_TEXT = 'Branch Offices' DEF_BY_HR = 'nan' INSIDER_KLA = 'X' DIP_THESIS = 'nan' CRIMINAL_REC = 'X' SHIFT_WORK = 'nan' STBY_SERVICE = 'nan' STBY_SERVICE_B = 'nan' \n",
      " ON_CALL_WORK = 'nan' WORK_PERMIT = 'nan' EMP_ABD = 'nan' TRAINING_COST = '0' OBLIG_MONTHS = '0' MOVING_COST_FLAG = 'nan' MOVING_COST = '0.0' SUPP_IND_PRO = 'nan' WEL_COURSE_DATE = '02.04.2019' LIFT_CMP_REG = 'nan' \n",
      " LIFT_CMP_DATE = 'nan' LIFT_CMP_DESG = 'nan' FREE_MOV_FORM = 'nan' CONT_TO_RET_DATE = '14.02.2019' CONT_SENT = 'nan' CONT_RET_DATE = 'nan' ENTRY_CODE = '1.0' ENTRY_TEXT = 'New Entry' WEEKLY_WRK_HRS = '40' \n",
      " EMP_DOCU = 'X' COMP_NAME1 = 'Schindler Aufzüge EBI Zentrale' COMP_NAME2 = 'Field Operations' COMP_STREET = 'Zugerstrasse' COMP_HOUSE_NUM1 = '13.0' COMP_PFACH = 'nan' COMP_PSTLZ = '6030.0' COMP_CITY1 = 'Ebikon' \n",
      " COMP_LAND1 = 'CH' COMP_LANDX = 'Schweiz' COMP_REGIO = 'LU' BUILDING = 'nan' FLOOR = 'nan' TEL_NUMBER = 'nan' FAX_NUMBER = 'nan' COUNTRY_NAME = 'Schweiz' COMMU_LANG = 'D' TEMPLATE_ID = '1111.0' MASSN = 'Y1' \n",
      " CONTRACT_SUBMIT = 'X' HIRING_SUBMIT = 'nan' CONTRACT_FLAG = 'X' COVER_FLAG = 'X' LIFTCAMP_FLAG = 'X' ENCL_DOC_FLAG = 'X' ANZKD = '0' KG_DATE_05 = 'nan' KG_DATE_06 = 'nan' KG_DATE_07 = 'nan' KG_DATE_08 = 'nan' \n",
      " KG_FLAG_06 = 'nan' KG_FLAG_07 = 'nan' KG_FLAG_08 = 'nan' KG_TIME_01 = '00:00:00' KG_TIME_02 = '00:00:00' KG_NUM_02 = 'nan' KG_NUM_03 = 'nan' KG_NUM_04 = 'nan' KG_NUM_05 = 'nan' KG_NUM_06 = 'nan' KG_TEXT_02 = 'nan' \n",
      " KG_TEXT_03 = 'nan' KG_TEXT_04 = 'nan' KG_TEXT_05 = 'nan' KG_TEXT_06 = 'nan' KG_TEXT_07 = 'nan' KG_TEXT_08 = 'nan' PRIV_ADRESS_SECO = 'nan' PRIV_ADDRESS_CO = 'nan' ZZDEC_CR = '0.0' ZZDEC_CR2 = '0.0' ZZDEC_CR3 = '0.0' \n",
      " ZZDATE = 'nan' ZZFLAG1 = 'nan' ZZFLAG2 = 'nan' ZZFLAG3 = 'nan'  ).\n",
      "APPEND l_tmp to e_tab.\n",
      "\n",
      "l_tmp = VALUE #( APLNO = '8' PERNR = '0' UNAME = 'EGGERCH' AEDTM = '24.03.2017 15:06' ACADEMICGRADE = 'nan' ACAD_GRADE_TXT = 'nan' ANRED = 'nan' ANRLT = 'nan' NACHN = 'Rychter' VORNA = 'Vishal' NCHMC = 'RYCHTER' \n",
      " VNAMC = 'VISHAL' GBDAT = 'nan' GESCH = 'nan' PLANS = '80455651' PLSTX = 'R451' PLSTX_LONG = 'Service Teamleader' PLSTX_LONG_EXT = 'nan' ORGEH = '505917' ORGTX = 'LA-UN3' ORGTX_LONG = 'LA Service UN3' \n",
      " ORGTX_LONG_EXT = 'nan' KOSTL = '540061020' KTEXT = 'nan' STELL = '0' STELTX = 'nan' STELL_OSC = 'nan' STELTX_OSC = 'nan' HIRED = '01.07.2017' BUKRS = '5400' BUTXT = 'Schindler Aufzüge AG (CH)' BUKRS_ORT01 = 'nan' \n",
      " WERKS = '5404' WERKS_TXT = 'nan' WERKS_CITY = 'nan' BTRTL = 'nan' BTEXT = 'nan' PERSG = 'nan' PERSG_TXT = 'nan' PERSK = 'nan' PERSK_TXT = 'nan' LAND1 = 'CH' ORT01 = 'nan' PSTLZ = 'nan' STATE = 'nan' \n",
      " STRAS = 'nan' TELNR = 'nan' E_MAIL = 'nan' NATIONALITY = 'nan' HOMETOWN = 'nan' HOMECOUNTRY = 'nan' Z_CHECK = '0' HOMECOUNTRY_TXT = 'nan' REC_PERNR = '0' REC_VORNA = 'nan' REC_NACHN = 'nan' REC_PLANS = '0' \n",
      " REC_PLANS_TXT = 'nan' REC_PLANS_EXT = 'nan' REC_ORG_TEXT = 'nan' REC_ORG_EXT = 'nan' REC_PHONE = 'nan' REC_MOBILE = 'nan' REC_EMAIL = 'nan' MGR_PERNR = '0' MGR_VORNA = 'nan' MGR_NACHN = 'nan' MGR_PLANS = '0' \n",
      " MGR_PLANS_TXT = 'nan' MGR_PLANS_EXT = 'nan' MGR_ORG_TEXT = 'nan' MGR_ORG_EXT = 'nan' ENTRY_DATE = 'nan' TECH_ENTRY = 'nan' TEC_COMPANY1 = 'nan' TEC_START_DATE1 = 'nan' TEC_END_DATE1 = 'nan' TEC_COMPANY2 = 'nan' \n",
      " TEC_START_DATE2 = 'nan' TEC_END_DATE2 = 'nan' TEC_COMPANY3 = 'nan' TEC_START_DATE3 = 'nan' TEC_END_DATE3 = 'nan' TEC_COMPANY4 = 'nan' TEC_START_DATE4 = 'nan' TEC_END_DATE4 = 'nan' FIRST_DAY = 'nan' ARRIVAL_TIME = '00:00:00' \n",
      " LEAVE_DATE = 'nan' MGT_GRADE_CODE = 'nan' MGT_GRADE_TEXT = 'nan' CONT_CODE = 'nan' CONT_TEXT = 'nan' CONTRACT_LANGU = 'nan' CONTRACT_LANG_T = 'nan' CONT_SUB_CODE = 'nan' CONT_SUB_TEXT = 'nan' CONT_DURATION = '0.00' \n",
      " PROBAT_PERIOD = '0.0' NOTICE_WITHIN = '0' NOTICE_AFTER = '0' EMPLY_PERCENT = '0' LGART = 'nan' WAGE_TYPE = 'nan' WAGE_AMOUNT = '0.00' ACC_GEN_COVERAGE = '0.0' Y_E_SALARY = '0.00' TGT_BONUS = '0.00' SIGNON_BONUS = '0.0' \n",
      " SOB_PERIOD = '0' REP_ALLOW = '0.00' CAR_ALLOW = '0.00' EXP_AFR = '0' AUTO_SPESEN = '0.00' PK_YCOMP_B = '0.00' PK_YCOMP_A = '0.00' STOCK_OPT_COD = 'nan' STOCK_OPT_TXT = 'nan' SFC = '0.00' NOA_INSURANCE = 'nan' \n",
      " RETIRED_EMP = 'nan' PF_MEMBER = 'nan' NOC_CODE = 'nan' NOC_TEXT = 'nan' DEF_BY_HR = 'nan' INSIDER_KLA = 'nan' DIP_THESIS = 'nan' CRIMINAL_REC = 'nan' SHIFT_WORK = 'nan' STBY_SERVICE = 'nan' STBY_SERVICE_B = 'nan' \n",
      " ON_CALL_WORK = 'nan' WORK_PERMIT = 'nan' EMP_ABD = 'nan' TRAINING_COST = '0' OBLIG_MONTHS = '0' MOVING_COST_FLAG = 'nan' MOVING_COST = '0.0' SUPP_IND_PRO = 'nan' WEL_COURSE_DATE = 'nan' LIFT_CMP_REG = 'nan' \n",
      " LIFT_CMP_DATE = 'nan' LIFT_CMP_DESG = 'nan' FREE_MOV_FORM = 'nan' CONT_TO_RET_DATE = 'nan' CONT_SENT = 'nan' CONT_RET_DATE = 'nan' ENTRY_CODE = 'nan' ENTRY_TEXT = 'nan' WEEKLY_WRK_HRS = '0' EMP_DOCU = 'nan' \n",
      " COMP_NAME1 = 'nan' COMP_NAME2 = 'nan' COMP_STREET = 'nan' COMP_HOUSE_NUM1 = 'nan' COMP_PFACH = 'nan' COMP_PSTLZ = 'nan' COMP_CITY1 = 'nan' COMP_LAND1 = 'nan' COMP_LANDX = 'nan' COMP_REGIO = 'nan' BUILDING = 'nan' \n",
      " FLOOR = 'nan' TEL_NUMBER = 'nan' FAX_NUMBER = 'nan' COUNTRY_NAME = 'nan' COMMU_LANG = 'nan' TEMPLATE_ID = 'nan' MASSN = 'nan' CONTRACT_SUBMIT = 'nan' HIRING_SUBMIT = 'nan' CONTRACT_FLAG = 'nan' COVER_FLAG = 'nan' \n",
      " LIFTCAMP_FLAG = 'nan' ENCL_DOC_FLAG = 'nan' ANZKD = '0' KG_DATE_05 = 'nan' KG_DATE_06 = 'nan' KG_DATE_07 = 'nan' KG_DATE_08 = 'nan' KG_FLAG_06 = 'nan' KG_FLAG_07 = 'nan' KG_FLAG_08 = 'nan' KG_TIME_01 = '00:00:00' \n",
      " KG_TIME_02 = '00:00:00' KG_NUM_02 = 'nan' KG_NUM_03 = 'nan' KG_NUM_04 = 'nan' KG_NUM_05 = 'nan' KG_NUM_06 = 'nan' KG_TEXT_02 = 'nan' KG_TEXT_03 = 'nan' KG_TEXT_04 = 'nan' KG_TEXT_05 = 'nan' KG_TEXT_06 = 'nan' \n",
      " KG_TEXT_07 = 'nan' KG_TEXT_08 = 'nan' PRIV_ADRESS_SECO = 'nan' PRIV_ADDRESS_CO = 'nan' ZZDEC_CR = '0.0' ZZDEC_CR2 = '0.0' ZZDEC_CR3 = '0.0' ZZDATE = 'nan' ZZFLAG1 = 'nan' ZZFLAG2 = 'nan' ZZFLAG3 = 'nan' \n",
      "  ).\n",
      "APPEND l_tmp to e_tab.\n",
      "\n",
      "l_tmp = VALUE #( APLNO = '9' PERNR = '0' UNAME = 'GRANGIKA' AEDTM = '29.03.2017 14:19' ACADEMICGRADE = 'nan' ACAD_GRADE_TXT = 'nan' ANRED = '1.0' ANRLT = 'Mr' NACHN = 'Shahapurkar' VORNA = 'Joachim' NCHMC = 'SHAHAPURKAR' \n",
      " VNAMC = 'JOACHIM' GBDAT = '23.12.1984' GESCH = '2.0' PLANS = '80455652' PLSTX = '40_500_40' PLSTX_LONG = 'Service Teamleader' PLSTX_LONG_EXT = 'nan' ORGEH = '505944' ORGTX = 'LA-UN4' ORGTX_LONG = 'LA Service UN4' \n",
      " ORGTX_LONG_EXT = 'nan' KOSTL = '540061020' KTEXT = 'nan' STELL = '80064944' STELTX = 'R451' STELL_OSC = '40 - FO Business' STELTX_OSC = 'Service Technician' HIRED = 'nan' BUKRS = '5400' BUTXT = 'Schindler Aufzüge AG (CH)' \n",
      " BUKRS_ORT01 = 'SCH' WERKS = '5404' WERKS_TXT = 'Lausanne' WERKS_CITY = 'Bussigny-près-Lausanne' BTRTL = 'nan' BTEXT = 'nan' PERSG = 'nan' PERSG_TXT = 'nan' PERSK = 'nan' PERSK_TXT = 'nan' LAND1 = 'CH' \n",
      " ORT01 = 'Grandson' PSTLZ = '1422.0' STATE = 'nan' STRAS = 'Rue Haute 25' TELNR = 'nan' E_MAIL = 'nan' NATIONALITY = 'CH' HOMETOWN = 'Yverdon (VD)' HOMECOUNTRY = 'CH' Z_CHECK = '0' HOMECOUNTRY_TXT = 'Switzerland' \n",
      " REC_PERNR = '0' REC_VORNA = 'nan' REC_NACHN = 'nan' REC_PLANS = '0' REC_PLANS_TXT = 'nan' REC_PLANS_EXT = 'nan' REC_ORG_TEXT = 'nan' REC_ORG_EXT = 'nan' REC_PHONE = 'nan' REC_MOBILE = 'nan' REC_EMAIL = 'nan' \n",
      " MGR_PERNR = '0' MGR_VORNA = 'nan' MGR_NACHN = 'nan' MGR_PLANS = '0' MGR_PLANS_TXT = 'nan' MGR_PLANS_EXT = 'nan' MGR_ORG_TEXT = 'nan' MGR_ORG_EXT = 'nan' ENTRY_DATE = 'nan' TECH_ENTRY = 'nan' TEC_COMPANY1 = 'nan' \n",
      " TEC_START_DATE1 = 'nan' TEC_END_DATE1 = 'nan' TEC_COMPANY2 = 'nan' TEC_START_DATE2 = 'nan' TEC_END_DATE2 = 'nan' TEC_COMPANY3 = 'nan' TEC_START_DATE3 = 'nan' TEC_END_DATE3 = 'nan' TEC_COMPANY4 = 'nan' \n",
      " TEC_START_DATE4 = 'nan' TEC_END_DATE4 = 'nan' FIRST_DAY = 'nan' ARRIVAL_TIME = '00:00:00' LEAVE_DATE = 'nan' MGT_GRADE_CODE = 'nan' MGT_GRADE_TEXT = 'nan' CONT_CODE = 'nan' CONT_TEXT = 'nan' CONTRACT_LANGU = 'E' \n",
      " CONTRACT_LANG_T = 'Anglais' CONT_SUB_CODE = 'nan' CONT_SUB_TEXT = 'nan' CONT_DURATION = '0.00' PROBAT_PERIOD = '0.0' NOTICE_WITHIN = '0' NOTICE_AFTER = '0' EMPLY_PERCENT = '0' LGART = 'nan' WAGE_TYPE = 'nan' \n",
      " WAGE_AMOUNT = '0.00' ACC_GEN_COVERAGE = '0.0' Y_E_SALARY = '0.00' TGT_BONUS = '0.00' SIGNON_BONUS = '0.0' SOB_PERIOD = '0' REP_ALLOW = '0.00' CAR_ALLOW = '0.00' EXP_AFR = '0' AUTO_SPESEN = '0.00' PK_YCOMP_B = '0.00' \n",
      " PK_YCOMP_A = '0.00' STOCK_OPT_COD = 'nan' STOCK_OPT_TXT = 'nan' SFC = '0.00' NOA_INSURANCE = 'nan' RETIRED_EMP = 'nan' PF_MEMBER = 'nan' NOC_CODE = 'nan' NOC_TEXT = 'nan' DEF_BY_HR = 'nan' INSIDER_KLA = 'nan' \n",
      " DIP_THESIS = 'nan' CRIMINAL_REC = 'nan' SHIFT_WORK = 'nan' STBY_SERVICE = 'nan' STBY_SERVICE_B = 'nan' ON_CALL_WORK = 'nan' WORK_PERMIT = 'nan' EMP_ABD = 'nan' TRAINING_COST = '0' OBLIG_MONTHS = '0' \n",
      " MOVING_COST_FLAG = 'nan' MOVING_COST = '0.0' SUPP_IND_PRO = 'nan' WEL_COURSE_DATE = 'nan' LIFT_CMP_REG = 'nan' LIFT_CMP_DATE = 'nan' LIFT_CMP_DESG = 'Service' FREE_MOV_FORM = 'nan' CONT_TO_RET_DATE = 'nan' \n",
      " CONT_SENT = 'nan' CONT_RET_DATE = 'nan' ENTRY_CODE = 'nan' ENTRY_TEXT = 'nan' WEEKLY_WRK_HRS = '0' EMP_DOCU = 'nan' COMP_NAME1 = 'nan' COMP_NAME2 = 'nan' COMP_STREET = 'nan' COMP_HOUSE_NUM1 = 'nan' COMP_PFACH = 'nan' \n",
      " COMP_PSTLZ = 'nan' COMP_CITY1 = 'nan' COMP_LAND1 = 'nan' COMP_LANDX = 'nan' COMP_REGIO = 'nan' BUILDING = 'nan' FLOOR = 'nan' TEL_NUMBER = 'nan' FAX_NUMBER = 'nan' COUNTRY_NAME = 'Suisse' COMMU_LANG = 'F' \n",
      " TEMPLATE_ID = 'nan' MASSN = 'nan' CONTRACT_SUBMIT = 'nan' HIRING_SUBMIT = 'nan' CONTRACT_FLAG = 'nan' COVER_FLAG = 'nan' LIFTCAMP_FLAG = 'nan' ENCL_DOC_FLAG = 'nan' ANZKD = '0' KG_DATE_05 = 'nan' KG_DATE_06 = 'nan' \n",
      " KG_DATE_07 = 'nan' KG_DATE_08 = 'nan' KG_FLAG_06 = 'nan' KG_FLAG_07 = 'nan' KG_FLAG_08 = 'nan' KG_TIME_01 = '00:00:00' KG_TIME_02 = '00:00:00' KG_NUM_02 = 'nan' KG_NUM_03 = 'nan' KG_NUM_04 = 'nan' KG_NUM_05 = 'nan' \n",
      " KG_NUM_06 = 'nan' KG_TEXT_02 = 'nan' KG_TEXT_03 = 'nan' KG_TEXT_04 = 'nan' KG_TEXT_05 = 'nan' KG_TEXT_06 = 'nan' KG_TEXT_07 = 'nan' KG_TEXT_08 = 'nan' PRIV_ADRESS_SECO = 'nan' PRIV_ADDRESS_CO = 'nan' \n",
      " ZZDEC_CR = '0.0' ZZDEC_CR2 = '0.0' ZZDEC_CR3 = '0.0' ZZDATE = 'nan' ZZFLAG1 = 'nan' ZZFLAG2 = 'nan' ZZFLAG3 = 'nan'  ).\n",
      "APPEND l_tmp to e_tab.\n",
      "\n",
      "l_tmp = VALUE #( APLNO = '10' PERNR = '0' UNAME = 'SCHNUECI' AEDTM = '30.04.2019 15:43' ACADEMICGRADE = 'nan' ACAD_GRADE_TXT = 'nan' ANRED = '1.0' ANRLT = 'Herr' NACHN = 'Kumar' VORNA = 'Saurav' NCHMC = 'KUMAR' \n",
      " VNAMC = 'SAURAV' GBDAT = '01.04.1984' GESCH = '2.0' PLANS = '80294317' PLSTX = '171326' PLSTX_LONG = 'Fitter NI' PLSTX_LONG_EXT = 'Aufzugsmonteur' ORGEH = '80271126' ORGTX = 'MW-IN4' ORGTX_LONG = 'IN Area 4' \n",
      " ORGTX_LONG_EXT = 'nan' KOSTL = '150043050' KTEXT = 'AS-MW Montage' STELL = '80064941' STELTX = 'R441' STELL_OSC = '40 - FO Business' STELTX_OSC = 'Fitter' HIRED = '01.06.2019' BUKRS = '1500' BUTXT = 'AS Aufzüge AG' \n",
      " BUKRS_ORT01 = 'ASZ' WERKS = '1528' WERKS_TXT = 'Mitte West Bern' WERKS_CITY = 'Schönbühl / Bern' BTRTL = '20.0' BTEXT = 'Werkstatt' PERSG = 'nan' PERSG_TXT = 'nan' PERSK = 'nan' PERSK_TXT = 'nan' LAND1 = 'CH' \n",
      " ORT01 = 'Gränichen' PSTLZ = '5722.0' STATE = 'nan' STRAS = 'Sommerstrasse 35' TELNR = 'nan' E_MAIL = 'nan' NATIONALITY = 'CH' HOMETOWN = 'Dürrenäsch' HOMECOUNTRY = 'CH' Z_CHECK = '0' HOMECOUNTRY_TXT = 'Schweiz' \n",
      " REC_PERNR = '196822' REC_VORNA = 'Belinda' REC_NACHN = 'Gerber' REC_PLANS = '80760517' REC_PLANS_TXT = 'HR Consultant' REC_PLANS_EXT = 'nan' REC_ORG_TEXT = 'HR FO Central Switzerland' REC_ORG_EXT = 'nan' \n",
      " REC_PHONE = '+41 31 818 73 86' REC_MOBILE = '+41 79 853 30 64' REC_EMAIL = 'belinda.gerber@schindler.com' MGR_PERNR = '119116' MGR_VORNA = 'Daniel' MGR_NACHN = 'Widmer' MGR_PLANS = '80333833' MGR_PLANS_TXT = 'Installation Supervisor' \n",
      " MGR_PLANS_EXT = 'Montagechef' MGR_ORG_TEXT = 'IN Area 4' MGR_ORG_EXT = 'nan' ENTRY_DATE = '01.06.2019' TECH_ENTRY = '01.02.2017' TEC_COMPANY1 = 'A.R.G.' TEC_START_DATE1 = '01.02.2017' TEC_END_DATE1 = '31.05.2019' \n",
      " TEC_COMPANY2 = 'nan' TEC_START_DATE2 = 'nan' TEC_END_DATE2 = 'nan' TEC_COMPANY3 = 'nan' TEC_START_DATE3 = 'nan' TEC_END_DATE3 = 'nan' TEC_COMPANY4 = 'nan' TEC_START_DATE4 = 'nan' TEC_END_DATE4 = 'nan' \n",
      " FIRST_DAY = '03.06.2019' ARRIVAL_TIME = '08:00:00' LEAVE_DATE = '31.12.9999' MGT_GRADE_CODE = 'nan' MGT_GRADE_TEXT = 'nan' CONT_CODE = '1.0' CONT_TEXT = 'GAV' CONTRACT_LANGU = 'D' CONTRACT_LANG_T = 'Deutsch' \n",
      " CONT_SUB_CODE = '110.0' CONT_SUB_TEXT = 'General (without title)' CONT_DURATION = '9999.00' PROBAT_PERIOD = '0.0' NOTICE_WITHIN = '0' NOTICE_AFTER = '3' EMPLY_PERCENT = '100' LGART = '1.0' WAGE_TYPE = 'Monthly' \n",
      " WAGE_AMOUNT = '5886.00' ACC_GEN_COVERAGE = '0.0' Y_E_SALARY = '5886.00' TGT_BONUS = '0.00' SIGNON_BONUS = '0.0' SOB_PERIOD = '0' REP_ALLOW = '0.00' CAR_ALLOW = '0.00' EXP_AFR = '12' AUTO_SPESEN = '0.00' \n",
      " PK_YCOMP_B = '76518.00' PK_YCOMP_A = '62518.00' STOCK_OPT_COD = '1.0' STOCK_OPT_TXT = 'No SOP' SFC = '0.00' NOA_INSURANCE = 'X' RETIRED_EMP = 'nan' PF_MEMBER = 'nan' NOC_CODE = '10.0' NOC_TEXT = 'Branch Offices' \n",
      " DEF_BY_HR = 'nan' INSIDER_KLA = 'X' DIP_THESIS = 'nan' CRIMINAL_REC = 'X' SHIFT_WORK = 'nan' STBY_SERVICE = 'nan' STBY_SERVICE_B = 'nan' ON_CALL_WORK = 'nan' WORK_PERMIT = 'nan' EMP_ABD = 'nan' TRAINING_COST = '0' \n",
      " OBLIG_MONTHS = '0' MOVING_COST_FLAG = 'nan' MOVING_COST = '0.0' SUPP_IND_PRO = 'nan' WEL_COURSE_DATE = '03.06.2019' LIFT_CMP_REG = 'nan' LIFT_CMP_DATE = '05.06.2019' LIFT_CMP_DESG = 'Montage' FREE_MOV_FORM = 'nan' \n",
      " CONT_TO_RET_DATE = '14.05.2019' CONT_SENT = 'nan' CONT_RET_DATE = 'nan' ENTRY_CODE = '2.0' ENTRY_TEXT = 'Re-Entry/Transfer' WEEKLY_WRK_HRS = '40' EMP_DOCU = 'X' COMP_NAME1 = 'Bern' COMP_NAME2 = 'nan' \n",
      " COMP_STREET = 'Grubenstrasse' COMP_HOUSE_NUM1 = '107.0' COMP_PFACH = 'nan' COMP_PSTLZ = '3322.0' COMP_CITY1 = 'Schönbühl / Bern' COMP_LAND1 = 'CH' COMP_LANDX = 'Schweiz' COMP_REGIO = 'BE' BUILDING = 'nan' \n",
      " FLOOR = 'nan' TEL_NUMBER = 'nan' FAX_NUMBER = 'nan' COUNTRY_NAME = 'Schweiz' COMMU_LANG = 'D' TEMPLATE_ID = '1111.0' MASSN = 'Y1' CONTRACT_SUBMIT = 'X' HIRING_SUBMIT = 'nan' CONTRACT_FLAG = 'X' COVER_FLAG = 'X' \n",
      " LIFTCAMP_FLAG = 'X' ENCL_DOC_FLAG = 'X' ANZKD = '1' KG_DATE_05 = 'nan' KG_DATE_06 = 'nan' KG_DATE_07 = 'nan' KG_DATE_08 = 'nan' KG_FLAG_06 = 'nan' KG_FLAG_07 = 'nan' KG_FLAG_08 = 'nan' KG_TIME_01 = '00:00:00' \n",
      " KG_TIME_02 = '00:00:00' KG_NUM_02 = 'nan' KG_NUM_03 = 'nan' KG_NUM_04 = 'nan' KG_NUM_05 = 'nan' KG_NUM_06 = 'nan' KG_TEXT_02 = 'nan' KG_TEXT_03 = 'nan' KG_TEXT_04 = 'nan' KG_TEXT_05 = 'nan' KG_TEXT_06 = 'nan' \n",
      " KG_TEXT_07 = 'nan' KG_TEXT_08 = 'nan' PRIV_ADRESS_SECO = 'nan' PRIV_ADDRESS_CO = 'nan' ZZDEC_CR = '0.0' ZZDEC_CR2 = '0.0' ZZDEC_CR3 = '0.0' ZZDATE = 'nan' ZZFLAG1 = 'nan' ZZFLAG2 = 'nan' ZZFLAG3 = 'nan' \n",
      "  ).\n",
      "APPEND l_tmp to e_tab.\n",
      "\n"
     ]
    }
   ],
   "source": [
    "def concat_abap_str():\n",
    "    l_val = ''\n",
    "    l_col = ''\n",
    "    for index, row in df.iterrows():\n",
    "        l_str = ''\n",
    "        l_str = l_str + \"l_tmp = VALUE #( \"\n",
    "        for col in df.columns: \n",
    "            l_val = str(row[col])\n",
    "            l_val = l_val.replace(\"'\", \"\")\n",
    "            l_col = col\n",
    "            if l_col == 'Check': \n",
    "                l_col = 'Z_CHECK'\n",
    "            l_str = l_str + l_col + \" = '\" + l_val + \"' \" \n",
    "            if len(l_str) >= 200: \n",
    "                print(l_str)\n",
    "                l_str = \" \"\n",
    "            # print(col + \" : \" + str(row[col]))\n",
    "        l_str = l_str + \" ).\" #+ \"\\n\" + \" . \\n\"\n",
    "        print(l_str) #;print(\"\\n\")\n",
    "        print(\"APPEND l_tmp to e_tab.\\n\")\n",
    "    #     print(row)\n",
    "    #     for i in row: \n",
    "    #         print(i)\n",
    "    #     l_str = l_str + \";\" + str(row[l_keycol])\n",
    "\n",
    "concat_abap_str()"
   ]
  },
  {
   "cell_type": "code",
   "execution_count": 49,
   "metadata": {},
   "outputs": [],
   "source": [
    "# l_str"
   ]
  },
  {
   "cell_type": "code",
   "execution_count": null,
   "metadata": {},
   "outputs": [],
   "source": []
  },
  {
   "cell_type": "markdown",
   "metadata": {},
   "source": [
    "# Test"
   ]
  },
  {
   "cell_type": "code",
   "execution_count": 38,
   "metadata": {},
   "outputs": [
    {
     "name": "stdout",
     "output_type": "stream",
     "text": [
      "First line\n",
      "Second line\n",
      "First line\n",
      "Second line\n"
     ]
    }
   ],
   "source": [
    "print('First line\\nSecond line') \n",
    "l_tmp = 'First line\\nSecond line'\n",
    "print(l_tmp)"
   ]
  },
  {
   "cell_type": "code",
   "execution_count": null,
   "metadata": {},
   "outputs": [],
   "source": []
  }
 ],
 "metadata": {
  "kernelspec": {
   "display_name": "Python 3.6.8 64-bit",
   "language": "python",
   "name": "python36864bitd102432fcf464bf4980590fa40cffac5"
  },
  "language_info": {
   "codemirror_mode": {
    "name": "ipython",
    "version": 3
   },
   "file_extension": ".py",
   "mimetype": "text/x-python",
   "name": "python",
   "nbconvert_exporter": "python",
   "pygments_lexer": "ipython3",
   "version": "3.6.8"
  }
 },
 "nbformat": 4,
 "nbformat_minor": 4
}
