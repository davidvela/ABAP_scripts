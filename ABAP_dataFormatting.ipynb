{
 "cells": [
  {
   "cell_type": "code",
   "execution_count": 1,
   "metadata": {},
   "outputs": [],
   "source": [
    "import pandas as pd \n"
   ]
  },
  {
   "cell_type": "code",
   "execution_count": 2,
   "metadata": {},
   "outputs": [],
   "source": [
    "\n",
    "path = \"../../../__data/\"\n",
    "config_file = \"_config.ini\"\n",
    "\n"
   ]
  },
  {
   "cell_type": "code",
   "execution_count": 3,
   "metadata": {},
   "outputs": [],
   "source": []
  },
  {
   "cell_type": "markdown",
   "metadata": {},
   "source": []
  },
  {
   "cell_type": "code",
   "execution_count": null,
   "metadata": {},
   "outputs": [],
   "source": []
  },
  {
   "cell_type": "code",
   "execution_count": null,
   "metadata": {},
   "outputs": [],
   "source": []
  },
  {
   "cell_type": "code",
   "execution_count": null,
   "metadata": {},
   "outputs": [],
   "source": []
  },
  {
   "cell_type": "markdown",
   "metadata": {},
   "source": [
    "# Data Formatting"
   ]
  },
  {
   "cell_type": "markdown",
   "metadata": {
    "heading_collapsed": true
   },
   "source": [
    "## Create ABAP XMLstring"
   ]
  },
  {
   "cell_type": "code",
   "execution_count": 5,
   "metadata": {
    "hidden": true
   },
   "outputs": [],
   "source": [
    "l_file = path + \"TH_HR_INPUT_STRUCTURE.xml\"\n",
    "l_stn  = \"l_pp\"\n"
   ]
  },
  {
   "cell_type": "code",
   "execution_count": 6,
   "metadata": {
    "hidden": true
   },
   "outputs": [],
   "source": [
    "#     \"l_val = i_st- .\n",
    "#     l_pp = l_pp && '<batchConfigResID>' && val && '</batchConfigResID>' ."
   ]
  },
  {
   "cell_type": "code",
   "execution_count": 7,
   "metadata": {
    "hidden": true
   },
   "outputs": [],
   "source": [
    "f = open(l_file, \"r\")\n",
    "l_output = \"\"\n",
    "for x in f:\n",
    "    #print(x)\n",
    "    y = x \n",
    "    y = y.split(\"<\")[1]\n",
    "    y = y.split(\">\")[0]\n",
    "    #print(y)\n",
    "    l_output =  l_stn + ' = ' + \" && '<\" + y + \">' && \" + \"val\" + \" && '</\" + y + \">' .\"  \n",
    "#     print(l_output)\n",
    "#     l_output = l_output + l_stn + ' = ' + \" && '<\" + y + \">' && \" + \"val\" + \" && '</\" + y + \">' .\"  "
   ]
  },
  {
   "cell_type": "code",
   "execution_count": 20,
   "metadata": {
    "hidden": true
   },
   "outputs": [],
   "source": [
    "# l_output"
   ]
  },
  {
   "cell_type": "markdown",
   "metadata": {},
   "source": [
    "## Create ABAP Structure"
   ]
  },
  {
   "cell_type": "code",
   "execution_count": 17,
   "metadata": {},
   "outputs": [],
   "source": [
    "f_sch    = path +  'ABAP_H_SampleData.csv'\n",
    "l_keycol = 'APLNO' \n",
    "df = pd.read_csv(f_sch, sep=';')\n",
    "df = df.fillna(\"\")\n",
    "# df.head(10)"
   ]
  },
  {
   "cell_type": "code",
   "execution_count": 18,
   "metadata": {},
   "outputs": [],
   "source": [
    "l_str = ''\n",
    "for index, row in df.iterrows():\n",
    "    l_str = l_str + \";\" + str(row[l_keycol])"
   ]
  },
  {
   "cell_type": "code",
   "execution_count": 19,
   "metadata": {},
   "outputs": [
    {
     "data": {
      "text/plain": [
       "';2;4;5;6;8;9;10'"
      ]
     },
     "execution_count": 19,
     "metadata": {},
     "output_type": "execute_result"
    }
   ],
   "source": [
    "l_str"
   ]
  },
  {
   "cell_type": "code",
   "execution_count": 16,
   "metadata": {},
   "outputs": [],
   "source": []
  },
  {
   "cell_type": "markdown",
   "metadata": {},
   "source": [
    "### Create ABAP Structure Value"
   ]
  },
  {
   "cell_type": "code",
   "execution_count": 1,
   "metadata": {},
   "outputs": [],
   "source": [
    "def concat_abap_str():\n",
    "    l_val = ''\n",
    "    l_col = ''\n",
    "    for index, row in df.iterrows():\n",
    "        l_str = ''\n",
    "        l_str = l_str + \"l_tmp = VALUE #( \"\n",
    "        for col in df.columns: \n",
    "            l_val = str(row[col])\n",
    "            l_val = l_val.replace(\"'\", \"\")\n",
    "            l_col = col\n",
    "            if l_col == 'Check': \n",
    "                l_col = 'Z_CHECK'\n",
    "            l_str = l_str + l_col + \" = '\" + l_val + \"' \" \n",
    "            if len(l_str) >= 200: \n",
    "                print(l_str)\n",
    "                l_str = \" \"\n",
    "            # print(col + \" : \" + str(row[col]))\n",
    "        l_str = l_str + \" ).\" #+ \"\\n\" + \" . \\n\"\n",
    "        print(l_str) #;print(\"\\n\")\n",
    "        print(\"APPEND l_tmp to e_tab.\\n\")\n",
    "    #     print(row)\n",
    "    #     for i in row: \n",
    "    #         print(i)\n",
    "    #     l_str = l_str + \";\" + str(row[l_keycol])\n",
    "\n",
    "# concat_abap_str()"
   ]
  },
  {
   "cell_type": "code",
   "execution_count": 49,
   "metadata": {},
   "outputs": [],
   "source": [
    "# l_str"
   ]
  },
  {
   "cell_type": "code",
   "execution_count": null,
   "metadata": {},
   "outputs": [],
   "source": []
  },
  {
   "cell_type": "markdown",
   "metadata": {
    "heading_collapsed": true
   },
   "source": [
    "# Test"
   ]
  },
  {
   "cell_type": "code",
   "execution_count": 38,
   "metadata": {
    "hidden": true
   },
   "outputs": [
    {
     "name": "stdout",
     "output_type": "stream",
     "text": [
      "First line\n",
      "Second line\n",
      "First line\n",
      "Second line\n"
     ]
    }
   ],
   "source": [
    "print('First line\\nSecond line') \n",
    "l_tmp = 'First line\\nSecond line'\n",
    "print(l_tmp)"
   ]
  },
  {
   "cell_type": "code",
   "execution_count": null,
   "metadata": {
    "hidden": true
   },
   "outputs": [],
   "source": []
  }
 ],
 "metadata": {
  "kernelspec": {
   "display_name": "Python 3.6.8 64-bit",
   "language": "python",
   "name": "python36864bitd102432fcf464bf4980590fa40cffac5"
  },
  "language_info": {
   "codemirror_mode": {
    "name": "ipython",
    "version": 3
   },
   "file_extension": ".py",
   "mimetype": "text/x-python",
   "name": "python",
   "nbconvert_exporter": "python",
   "pygments_lexer": "ipython3",
   "version": "3.6.8"
  }
 },
 "nbformat": 4,
 "nbformat_minor": 4
}
